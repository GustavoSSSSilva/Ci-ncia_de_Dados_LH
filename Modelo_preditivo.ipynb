{
 "cells": [
  {
   "cell_type": "code",
   "execution_count": 21,
   "id": "2cefbe3a-8227-4a9a-9f9d-4b047cf480ba",
   "metadata": {},
   "outputs": [
    {
     "name": "stdout",
     "output_type": "stream",
     "text": [
      "Predicted IMDB rating: 8.773999999999996\n"
     ]
    }
   ],
   "source": [
    "import pandas as pd\n",
    "import numpy as np\n",
    "from sklearn.model_selection import train_test_split\n",
    "from sklearn.ensemble import RandomForestRegressor\n",
    "from sklearn.metrics import mean_squared_error, r2_score\n",
    "from sklearn.preprocessing import LabelEncoder\n",
    "import pickle\n",
    "\n",
    "# Load the dataset\n",
    "df = pd.read_csv(r\"C:\\Users\\gusta\\Documents\\desafio_LH\\desafio_indicium_imdb.csv\")\n",
    "\n",
    "\n",
    "# Drop the 'Unnamed: 0' column\n",
    "df = df.drop(columns=['Unnamed: 0'])\n",
    "\n",
    "# Convert 'Released_Year' to numeric\n",
    "df['Released_Year'] = pd.to_numeric(df['Released_Year'], errors='coerce')\n",
    "\n",
    "# Convert 'Runtime' to numeric\n",
    "df['Runtime'] = df['Runtime'].str.replace(' min', '')\n",
    "df['Runtime'] = pd.to_numeric(df['Runtime'], errors='coerce')\n",
    "\n",
    "# Convert 'Gross' to numeric\n",
    "df['Gross'] = df['Gross'].str.replace(',', '')\n",
    "df['Gross'] = pd.to_numeric(df['Gross'], errors='coerce')\n",
    "\n",
    "# Fill missing values\n",
    "df['Certificate'] = df['Certificate'].fillna('Unrated')\n",
    "df['Meta_score'] = df['Meta_score'].fillna(df['Meta_score'].mean())\n",
    "df['Gross'] = df['Gross'].fillna(df['Gross'].mean())\n",
    "\n",
    "numeric_cols = df.select_dtypes(include=[np.number]).columns\n",
    "df[numeric_cols] = df[numeric_cols].fillna(df[numeric_cols].mean())\n",
    "\n",
    "# Encode categorical variables\n",
    "label_encoders = {}\n",
    "categorical_columns = ['Certificate', 'Genre']\n",
    "\n",
    "for col in categorical_columns:\n",
    "    le = LabelEncoder()\n",
    "    df[col] = le.fit_transform(df[col].astype(str))\n",
    "    label_encoders[col] = le\n",
    "\n",
    "# Drop the specified columns\n",
    "df = df.drop(['Director', 'Star1', 'Star2', 'Star3', 'Star4', 'Overview'], axis=1)\n",
    "\n",
    "# Split the data\n",
    "X = df.drop(['IMDB_Rating', 'Series_Title'], axis=1)\n",
    "y = df['IMDB_Rating']\n",
    "X_train, X_test, y_train, y_test = train_test_split(X, y, test_size=0.2, random_state=42)\n",
    "\n",
    "# Train the model\n",
    "model = RandomForestRegressor(n_estimators=100, random_state=42)\n",
    "model.fit(X_train, y_train)\n",
    "\n",
    "# Evaluate the model\n",
    "y_pred = model.predict(X_test)\n",
    "r2 = r2_score(y_test, y_pred)\n",
    "rmse = np.sqrt(mean_squared_error(y_test, y_pred))\n",
    "\n",
    "# Features for predicting 'The Shawshank Redemption'\n",
    "film_features = {\n",
    "    'Released_Year': 1994,\n",
    "    'Certificate': label_encoders['Certificate'].transform(['A'])[0],\n",
    "    'Runtime': 142,\n",
    "    'Genre': label_encoders['Genre'].transform(['Drama'])[0],\n",
    "    'Meta_score': 80,\n",
    "    'No_of_Votes': 2343110,\n",
    "    'Gross': 28341469\n",
    "}\n",
    "\n",
    "film_df = pd.DataFrame([film_features])\n",
    "\n",
    "imdb_rating_prediction = model.predict(film_df)\n",
    "print('Predicted IMDB rating:', imdb_rating_prediction[0])"
   ]
  },
  {
   "cell_type": "code",
   "execution_count": 22,
   "id": "81746594-5813-49d0-abda-e8ff04d9ecdb",
   "metadata": {},
   "outputs": [],
   "source": [
    "with open('modelo_preditivo_imdb.pkl', 'wb') as file:\n",
    "    pickle.dump(model, file)"
   ]
  },
  {
   "cell_type": "code",
   "execution_count": null,
   "id": "d729ed0d-3799-4972-86ff-6b071112d713",
   "metadata": {},
   "outputs": [],
   "source": []
  }
 ],
 "metadata": {
  "kernelspec": {
   "display_name": "Python 3 (ipykernel)",
   "language": "python",
   "name": "python3"
  },
  "language_info": {
   "codemirror_mode": {
    "name": "ipython",
    "version": 3
   },
   "file_extension": ".py",
   "mimetype": "text/x-python",
   "name": "python",
   "nbconvert_exporter": "python",
   "pygments_lexer": "ipython3",
   "version": "3.10.6"
  }
 },
 "nbformat": 4,
 "nbformat_minor": 5
}
